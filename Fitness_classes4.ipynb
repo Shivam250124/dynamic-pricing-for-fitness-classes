{
  "nbformat": 4,
  "nbformat_minor": 0,
  "metadata": {
    "colab": {
      "provenance": []
    },
    "kernelspec": {
      "name": "python3",
      "display_name": "Python 3"
    },
    "language_info": {
      "name": "python"
    }
  },
  "cells": [
    {
      "cell_type": "code",
      "execution_count": null,
      "metadata": {
        "id": "PZJazgczhB6-",
        "colab": {
          "base_uri": "https://localhost:8080/"
        },
        "outputId": "4d5306fd-cbed-4e96-8d7c-f0f10455b962"
      },
      "outputs": [
        {
          "output_type": "stream",
          "name": "stderr",
          "text": [
            "/tmp/ipython-input-3501919419.py:13: UserWarning: Could not infer format, so each element will be parsed individually, falling back to `dateutil`. To ensure parsing is consistent and as-expected, please specify a format.\n",
            "  df['BookingStartTime'] = pd.to_datetime(df['BookingStartTime']).dt.time\n"
          ]
        },
        {
          "output_type": "stream",
          "name": "stdout",
          "text": [
            "       ActivityDescription  Original Price  New Dynamic Price  Number Booked  \\\n",
            "0  20-20-20  2.45pm-3.45pm             499             450.35             12   \n",
            "1  20-20-20  2.45pm-3.45pm             499             450.35             15   \n",
            "2  20-20-20  2.45pm-3.45pm             499             450.35             14   \n",
            "3  20-20-20  2.45pm-3.45pm             499             450.35              9   \n",
            "4  20-20-20  2.45pm-3.45pm             499             427.83              7   \n",
            "\n",
            "  time_of_day  \n",
            "0   Afternoon  \n",
            "1   Afternoon  \n",
            "2   Afternoon  \n",
            "3   Afternoon  \n",
            "4   Afternoon  \n"
          ]
        }
      ],
      "source": [
        "import pandas as pd\n",
        "import numpy as np\n",
        "\n",
        "\n",
        "df = pd.read_excel('cleaned_data.xlsx')\n",
        "\n",
        "\n",
        "df['day_of_week'] = pd.to_datetime(df['BookingEndDateTime (Month / Day / Year)']).dt.day_name()\n",
        "\n",
        "\n",
        "df['BookingStartTime'] = pd.to_datetime(df['BookingStartTime']).dt.time\n",
        "\n",
        "\n",
        "def categorize_time(time):\n",
        "    if 5 <= time.hour < 12:\n",
        "        return 'Morning'\n",
        "    elif 12 <= time.hour < 17:\n",
        "        return 'Afternoon'\n",
        "    else:\n",
        "        return 'Evening'\n",
        "\n",
        "df['time_of_day'] = df['BookingStartTime'].apply(categorize_time)\n",
        "\n",
        "def get_dynamic_price(base_price, activity_description, time_of_day, current_bookings, max_bookees):\n",
        "    \"\"\"Calculates a dynamic price based on defined rules.\"\"\"\n",
        "\n",
        "    adjusted_price = base_price\n",
        "\n",
        "    high_demand_classes = ['Body Conditioning 10-11am', 'Aquafit 7.00-8.00pm', 'Body Balance 11-12pm']\n",
        "    if activity_description in high_demand_classes:\n",
        "        adjusted_price *= 1.15\n",
        "    else:\n",
        "        adjusted_price *= 0.95\n",
        "\n",
        "    if time_of_day == 'Morning' or time_of_day == 'Evening':\n",
        "        adjusted_price *= 1.05\n",
        "    elif time_of_day == 'Afternoon':\n",
        "        adjusted_price *= 0.95\n",
        "\n",
        "    demand_percentage = (current_bookings / max_bookees) if max_bookees > 0 else 0\n",
        "    if demand_percentage > 0.80:\n",
        "        adjusted_price *= 1.10\n",
        "    elif demand_percentage < 0.30:\n",
        "        adjusted_price *= 0.95\n",
        "\n",
        "    return round(adjusted_price, 2)\n",
        "\n",
        "\n",
        "df['Original Price'] = df['Price (INR)']\n",
        "df['New Dynamic Price'] = 0.0\n",
        "\n",
        "for index, row in df.iterrows():\n",
        "    new_price = get_dynamic_price(\n",
        "        base_price=row['Original Price'],\n",
        "        activity_description=row['ActivityDescription'],\n",
        "        time_of_day=row['time_of_day'],\n",
        "        current_bookings=row['Number Booked'],\n",
        "        max_bookees=row['MaxBookees']\n",
        "    )\n",
        "    df.loc[index, 'New Dynamic Price'] = new_price\n",
        "\n",
        "print(df[['ActivityDescription', 'Original Price', 'New Dynamic Price', 'Number Booked', 'time_of_day']].head())"
      ]
    }
  ]
}